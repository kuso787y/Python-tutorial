{
 "cells": [
  {
   "cell_type": "code",
   "execution_count": 92,
   "metadata": {
    "collapsed": false
   },
   "outputs": [
    {
     "name": "stdout",
     "output_type": "stream",
     "text": [
      "17:16:49 start\n",
      "17:16:52 do work3\n",
      "17:16:54 do work1\n",
      "17:16:59 do work2\n"
     ]
    }
   ],
   "source": [
    "import threading\n",
    "import datetime\n",
    "\n",
    "a = [[5,\"work1\"],[10,\"work2\"],[3,\"work3\"]]\n",
    "c = 0\n",
    "work_scheduler = []\n",
    "\n",
    "def to_do():\n",
    "    print(\"{:%H:%M:%S}\".format(datetime.datetime.now()) + \" do \" + work_scheduler[0])\n",
    "    work_scheduler.pop(0)\n",
    "\n",
    "print(\"{:%H:%M:%S}\".format(datetime.datetime.now()) + \" start\")\n",
    "\n",
    "for i in sorted(a):\n",
    "    work_scheduler.append(i[c+1])\n",
    "    t = threading.Timer(i[c], to_do)\n",
    "    t.start()"
   ]
  }
 ],
 "metadata": {
  "kernelspec": {
   "display_name": "Python 3",
   "language": "python",
   "name": "python3"
  },
  "language_info": {
   "codemirror_mode": {
    "name": "ipython",
    "version": 3
   },
   "file_extension": ".py",
   "mimetype": "text/x-python",
   "name": "python",
   "nbconvert_exporter": "python",
   "pygments_lexer": "ipython3",
   "version": "3.5.1"
  }
 },
 "nbformat": 4,
 "nbformat_minor": 0
}
