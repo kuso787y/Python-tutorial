{
 "cells": [
  {
   "cell_type": "markdown",
   "metadata": {},
   "source": [
    "# 精簡版↓"
   ]
  },
  {
   "cell_type": "code",
   "execution_count": 110,
   "metadata": {
    "collapsed": false
   },
   "outputs": [],
   "source": [
    "import threading\n",
    "import datetime\n",
    "import os\n",
    "\n",
    "a = [[\"E:\\\\test1.py\",\"work1\",5],[\"E:\\\\test2.py\",\"work2\",10],[\"E:\\\\test3.py\",\"work3\",3]]\n",
    "\n",
    "with open(r'E:\\\\test.txt','a') as f:\n",
    "    f.write(\"{:%H:%M:%S}\".format(datetime.datetime.now()) + \" start\\n\")\n",
    "\n",
    "def to_do(program, variable):\n",
    "    excute = \"python \" + program + \" \" + variable\n",
    "    os.system(excute)\n",
    "\n",
    "for i in a:\n",
    "    t = threading.Timer(i[2], to_do, [i[0],i[1]])\n",
    "    t.start()"
   ]
  },
  {
   "cell_type": "markdown",
   "metadata": {},
   "source": [
    "# 原始版↓"
   ]
  },
  {
   "cell_type": "code",
   "execution_count": 102,
   "metadata": {
    "collapsed": false
   },
   "outputs": [
    {
     "name": "stdout",
     "output_type": "stream",
     "text": [
      "20:55:19 start\n",
      "20:55:22 do work3\n",
      "20:55:24 do work1\n",
      "20:55:29 do work2\n"
     ]
    }
   ],
   "source": [
    "import threading\n",
    "import datetime\n",
    "\n",
    "a = [[5,\"work1\"],[10,\"work2\"],[3,\"work3\"]]\n",
    "c = 0\n",
    "work_scheduler = []\n",
    "\n",
    "def to_do():\n",
    "    print(\"{:%H:%M:%S}\".format(datetime.datetime.now()) + \" do \" + work_scheduler[0])\n",
    "    work_scheduler.pop(0)\n",
    "\n",
    "print(\"{:%H:%M:%S}\".format(datetime.datetime.now()) + \" start\")\n",
    "\n",
    "for i in sorted(a):\n",
    "    work_scheduler.append(i[c+1])\n",
    "    t = threading.Timer(i[c], to_do)\n",
    "    t.start()"
   ]
  },
  {
   "cell_type": "code",
   "execution_count": 107,
   "metadata": {
    "collapsed": false
   },
   "outputs": [
    {
     "name": "stdout",
     "output_type": "stream",
     "text": [
      "Hello world\n"
     ]
    }
   ],
   "source": [
    "import threading\n",
    "def hello(msg):\n",
    "    print (msg)\n",
    "\n",
    "t = threading.Timer(3, hello, ['Hello world'])\n",
    "t.start()"
   ]
  },
  {
   "cell_type": "code",
   "execution_count": null,
   "metadata": {
    "collapsed": true
   },
   "outputs": [],
   "source": []
  }
 ],
 "metadata": {
  "kernelspec": {
   "display_name": "Python 3",
   "language": "python",
   "name": "python3"
  },
  "language_info": {
   "codemirror_mode": {
    "name": "ipython",
    "version": 3
   },
   "file_extension": ".py",
   "mimetype": "text/x-python",
   "name": "python",
   "nbconvert_exporter": "python",
   "pygments_lexer": "ipython3",
   "version": "3.5.1"
  }
 },
 "nbformat": 4,
 "nbformat_minor": 0
}
