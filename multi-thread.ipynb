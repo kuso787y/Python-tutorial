{
 "cells": [
  {
   "cell_type": "markdown",
   "metadata": {},
   "source": [
    "# 限制同時間執行的thread數"
   ]
  },
  {
   "cell_type": "code",
   "execution_count": 11,
   "metadata": {
    "collapsed": false
   },
   "outputs": [
    {
     "name": "stdout",
     "output_type": "stream",
     "text": [
      "Thread-36 start\n",
      "Thread-37 start\n",
      "23:02:54 Thread-36 is running\n",
      "23:02:54 Thread-37 is running\n",
      "23:02:55 Thread-36 is running\n",
      "23:02:58 run E:\\test3.py variable = work3\n",
      "23:03:01 run E:\\test1.py variable = work1\n",
      "23:03:09 run E:\\test2.py variable = work2\n"
     ]
    }
   ],
   "source": [
    "import os\n",
    "import queue as q\n",
    "import time\n",
    "import datetime\n",
    "\n",
    "a = [[\"E:\\\\test1.py\",\"work1\",7],[\"E:\\\\test2.py\",\"work2\",15],[\"E:\\\\test3.py\",\"work3\",3]]\n",
    "\n",
    "class MyThread(q.threading.Thread):\n",
    "    def __init__(self, condition):\n",
    "        q.threading.Thread.__init__(self)\n",
    "        self.cond = condition\n",
    "\n",
    "    def run(self):\n",
    "        print ('{0} start\\r'.format(self.getName()))\n",
    "\n",
    "        while (True):\n",
    "            path, work_name, delay_time = threadPool.get()\n",
    "            self.cond.acquire() # lock thread,避免同時用同一個thread執行\n",
    "            print (\"{:%H:%M:%S}\".format(datetime.datetime.now()) + ' {0}'.format(self.getName()) + ' is running')\n",
    "            exe = q.threading.Timer(delay_time, to_do, [path, work_name])\n",
    "            exe.start()\n",
    "            time.sleep(0.5) #可省略,只是表達同時間有2個thread可執行queue中的工作\n",
    "            self.cond.release() #派工完,解thread lock\n",
    "            threadPool.task_done() #註記此工作已做\n",
    "\n",
    "def to_do(program, variable):\n",
    "    execute = \"python \" + program + \" \" + variable\n",
    "    print(\"{:%H:%M:%S}\".format(datetime.datetime.now()) + \" run \" + program + \" variable = \" + variable)\n",
    "    os.system(execute)\n",
    "\n",
    "threadPool = q.Queue(0) #建一個沒有限制可放多少數量的queue\n",
    "condition = q.threading.Condition() # OS lock機制\n",
    "\n",
    "#只用2個thread執行所有工作\n",
    "for i in range(2):\n",
    "    MyThread(condition).start()\n",
    "\n",
    "#將list所有工作放到queue中\n",
    "for i in a:\n",
    "    threadPool.put(i)\n",
    "\n",
    "threadPool.join() #得到task done的訊息,將queue中的位置空出來讓後面的工作項目可以補上"
   ]
  },
  {
   "cell_type": "markdown",
   "metadata": {},
   "source": [
    "# 精簡版↓"
   ]
  },
  {
   "cell_type": "code",
   "execution_count": 117,
   "metadata": {
    "collapsed": false
   },
   "outputs": [],
   "source": [
    "import queue as q\n",
    "import datetime\n",
    "import os\n",
    "\n",
    "a = [[\"E:\\\\test1.py\",\"work1\",5],[\"E:\\\\test2.py\",\"work2\",10],[\"E:\\\\test3.py\",\"work3\",3]]\n",
    "\n",
    "with open(r'E:\\\\test.txt','a') as f:\n",
    "    f.write(\"{:%H:%M:%S}\".format(datetime.datetime.now()) + \" start\\n\")\n",
    "\n",
    "def to_do(program, variable):\n",
    "    excute = \"python \" + program + \" \" + variable\n",
    "    os.system(excute)\n",
    "\n",
    "for i in a:\n",
    "    t = q.threading.Timer(i[2], to_do, [i[0],i[1]])\n",
    "    t.start()\n",
    "\n",
    "a.clear()"
   ]
  },
  {
   "cell_type": "markdown",
   "metadata": {},
   "source": [
    "# 原始版↓"
   ]
  },
  {
   "cell_type": "code",
   "execution_count": 102,
   "metadata": {
    "collapsed": false
   },
   "outputs": [
    {
     "name": "stdout",
     "output_type": "stream",
     "text": [
      "20:55:19 start\n",
      "20:55:22 do work3\n",
      "20:55:24 do work1\n",
      "20:55:29 do work2\n"
     ]
    }
   ],
   "source": [
    "import threading\n",
    "import datetime\n",
    "\n",
    "a = [[5,\"work1\"],[10,\"work2\"],[3,\"work3\"]]\n",
    "c = 0\n",
    "work_scheduler = []\n",
    "\n",
    "def to_do():\n",
    "    print(\"{:%H:%M:%S}\".format(datetime.datetime.now()) + \" do \" + work_scheduler[0])\n",
    "    work_scheduler.pop(0)\n",
    "\n",
    "print(\"{:%H:%M:%S}\".format(datetime.datetime.now()) + \" start\")\n",
    "\n",
    "for i in sorted(a):\n",
    "    work_scheduler.append(i[c+1])\n",
    "    t = threading.Timer(i[c], to_do)\n",
    "    t.start()"
   ]
  },
  {
   "cell_type": "code",
   "execution_count": null,
   "metadata": {
    "collapsed": true
   },
   "outputs": [],
   "source": []
  }
 ],
 "metadata": {
  "kernelspec": {
   "display_name": "Python 3",
   "language": "python",
   "name": "python3"
  },
  "language_info": {
   "codemirror_mode": {
    "name": "ipython",
    "version": 3
   },
   "file_extension": ".py",
   "mimetype": "text/x-python",
   "name": "python",
   "nbconvert_exporter": "python",
   "pygments_lexer": "ipython3",
   "version": "3.5.1"
  }
 },
 "nbformat": 4,
 "nbformat_minor": 0
}
