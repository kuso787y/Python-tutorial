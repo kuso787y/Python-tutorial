{
 "cells": [
  {
   "cell_type": "code",
   "execution_count": null,
   "metadata": {
    "collapsed": true
   },
   "outputs": [],
   "source": [
    "import requests as r\n",
    " \n",
    "url = 'http://xxx'\n",
    "pic = 'D:\\\\test.jpg'\n",
    " \n",
    "myfile = {\n",
    "    'uname': (None,'xxx'),\n",
    "    'passwd': (None,'xxx'),\n",
    "    'pagingId': (None,'xxx'),\n",
    "    'groupId': (None,'xxx'),\n",
    "    'file': ('test.jpg',open(pic, 'rb'), 'image/jpeg')\n",
    "}\n",
    " \n",
    "response = r.post(url, files=myfile)"
   ]
  }
 ],
 "metadata": {
  "kernelspec": {
   "display_name": "Python 3",
   "language": "python",
   "name": "python3"
  },
  "language_info": {
   "codemirror_mode": {
    "name": "ipython",
    "version": 3
   },
   "file_extension": ".py",
   "mimetype": "text/x-python",
   "name": "python",
   "nbconvert_exporter": "python",
   "pygments_lexer": "ipython3",
   "version": "3.5.1"
  }
 },
 "nbformat": 4,
 "nbformat_minor": 0
}
