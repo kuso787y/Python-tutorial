{
 "cells": [
  {
   "cell_type": "code",
   "execution_count": 44,
   "metadata": {
    "collapsed": false
   },
   "outputs": [
    {
     "name": "stdout",
     "output_type": "stream",
     "text": [
      "[]\n"
     ]
    }
   ],
   "source": [
    "import sqlite3\n",
    "conn = sqlite3.connect('revenue.db')\n",
    "c = conn.cursor()\n",
    "a=[]\n",
    "#cpyid = input ('請輸入上市公司代碼:')\n",
    "c.execute('''DROP TABLE eps''')\n",
    "c.execute('''CREATE TABLE eps (yr real, qr real, cpyid text,cpyname text, eps real)''')\n",
    "#conn.commit()\n",
    "for i in c.execute(\"SELECT * FROM eps WHERE cpyid='3045'\"):\n",
    "    a.append(i)\n",
    "print (a)"
   ]
  },
  {
   "cell_type": "code",
   "execution_count": null,
   "metadata": {
    "collapsed": true
   },
   "outputs": [],
   "source": [
    "import urllib.request\n",
    "from bs4 import BeautifulSoup\n",
    "url = 'http://mops.twse.com.tw/mops/web/ajax_t163sb04?'\\\n",
    "        'encodeURIComponent=1&step=1&firstin=1&off=1&TYPEK=sii&year=102&season=01'\n",
    "response = urllib.request.urlopen(url)\n",
    "html = response.read()\n",
    "sp = BeautifulSoup(html.decode('utf8'))\n",
    "tbls=sp.find_all('table',attrs={ 'class' : \"hasBorder\"})\n",
    "#print(tbls)\n",
    "\n",
    "for tbl in tbls:\n",
    "    ths=tbl.find_all('th')\n",
    "    #print(ths)\n",
    "    i=0\n",
    "    j=0\n",
    "    for th in ths:\n",
    "        i=i+1\n",
    "        if \"每股盈餘\"  in th.get_text():\n",
    "            #print(i,ths[i-1].get_text())\n",
    "            j=i\n",
    "            \n",
    "    \n",
    "    trs=tbl.find_all('tr',attrs={ 'class' : \"even\"})                \n",
    "    for tr in trs:\n",
    "        tds=tr.find_all('td')\n",
    "        print (tds[0].get_text(),tds[1].get_text(),tds[j-1].get_text())\n",
    "        epslist=(102,1,tds[0].get_text(),tds[1].get_text(),float(tds[j-1].get_text()))\n",
    "        c.execute('INSERT INTO eps VALUES (?,?,?,?,? )', epslist) \n",
    "        \n",
    "    trs=tbl.find_all('tr',attrs={ 'class' : \"odd\"})   \n",
    "    #print(trs)\n",
    "    for tr in trs:\n",
    "        tds=tr.find_all('td')\n",
    "        print (tds[0].get_text(),tds[1].get_text(),tds[j-1].get_text())        \n",
    "        epslist=(102,1,tds[0].get_text(),tds[1].get_text(),float(tds[j-1].get_text()))\n",
    "        c.execute('INSERT INTO eps VALUES (?,?,?,?,? )', epslist)"
   ]
  },
  {
   "cell_type": "code",
   "execution_count": null,
   "metadata": {
    "collapsed": true
   },
   "outputs": [],
   "source": []
  }
 ],
 "metadata": {
  "kernelspec": {
   "display_name": "Python 3",
   "language": "python",
   "name": "python3"
  },
  "language_info": {
   "codemirror_mode": {
    "name": "ipython",
    "version": 3
   },
   "file_extension": ".py",
   "mimetype": "text/x-python",
   "name": "python",
   "nbconvert_exporter": "python",
   "pygments_lexer": "ipython3",
   "version": "3.4.1"
  }
 },
 "nbformat": 4,
 "nbformat_minor": 0
}
