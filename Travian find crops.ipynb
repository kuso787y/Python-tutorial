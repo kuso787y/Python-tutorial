{
 "cells": [
  {
   "cell_type": "code",
   "execution_count": 38,
   "metadata": {
    "collapsed": false
   },
   "outputs": [
    {
     "name": "stdout",
     "output_type": "stream",
     "text": [
      "輸入X軸座標:1\n",
      "輸入X軸座標:1\n",
      "searching: http://croppers.travibot.com/?l=en&server=tx2.travian.com&x=1&y=1\n",
      "searching: http://croppers.travibot.com/?l=en&server=tx2.travian.com&x=1&y=1&page=2\n",
      "('0', '0', ' 9', 'No')\n",
      "('2', '3', ' 9', 'No')\n",
      "('2', '5', ' 15', 'Yes')\n",
      "('6', '2', ' 15', 'No')\n",
      "('3', '6', ' 15', 'Yes')\n",
      "('-3', '-3', ' 15', 'No')\n",
      "('4', '6', ' 9', 'Yes')\n",
      "('6', '-2', ' 15', 'Yes')\n",
      "('-4', '-3', ' 15', 'No')\n",
      "('5', '6', ' 15', 'No')\n",
      "('-2', '-6', ' 15', 'No')\n",
      "('8', '-2', ' 9', 'Yes')\n",
      "('-5', '-4', ' 15', 'No')\n",
      "('2', '-7', ' 9', 'No')\n",
      "('2', '9', ' 15', 'Yes')\n",
      "('0', '9', ' 15', 'Yes')\n"
     ]
    }
   ],
   "source": [
    "import urllib.request\n",
    "import re\n",
    "from bs4 import BeautifulSoup\n",
    "#import sqlite3\n",
    "import time\n",
    "x = input('輸入X軸座標:')\n",
    "y = input('輸入X軸座標:')\n",
    "page = 1\n",
    "coordinate_x = []\n",
    "coordinate_y = []\n",
    "crops_type = []\n",
    "crop_oases = []\n",
    "\n",
    "for i in range(1,10):\n",
    "    \n",
    "    if page <= 1:\n",
    "        url = 'http://croppers.travibot.com/?l=en&server=tx2.travian.com&x={}&y={}'.format(x,y)\n",
    "    else:\n",
    "        url = 'http://croppers.travibot.com/?l=en&server=tx2.travian.com&x={}&y={}&page={}'.format(x,y,page)\n",
    "    print (\"searching: {}\".format(url))\n",
    "    response = urllib.request.urlopen(url)\n",
    "    html = response.read()\n",
    "    sp = BeautifulSoup(html)\n",
    "    temp1 = sp.find_all(\"td\",class_=\"l\")\n",
    "    temp2 = sp.find_all(\"a\",href=re.compile(\"http://tx2.travian.com/karte.php?\"))\n",
    "\n",
    "    for i in temp1:\n",
    "        if i.find_all(\"img\",alt=re.compile(\"Cropper type\")):\n",
    "            crops_type.append(i.get_text())\n",
    "        elif i.find_all(\"img\",src=re.compile(\"/img/4.gif\")):\n",
    "            crop_oases.append('Yes')\n",
    "        else:\n",
    "            crop_oases.append('No')\n",
    "\n",
    "    for i in temp2:\n",
    "        coordinate_x.append(i.get_text().split('|')[0])\n",
    "        coordinate_y.append(i.get_text().split('|')[1])\n",
    "    \n",
    "    page+=1\n",
    "    time.sleep(3)\n",
    "    \n",
    "count = 0\n",
    "show = ()\n",
    "for i in coordinate_x:\n",
    "    show = (coordinate_x[count],coordinate_y[count],crops_type[count],crop_oases[count])\n",
    "    count+=1\n",
    "    print(show)\n",
    "    \n",
    "#connect_db = sqlite3.connect('travian1.db')\n",
    "#c = connect_db.cursor()\n",
    "#c.execute('''DROP TABLE crops_info''')\n",
    "#c.execute('''CREATE TABLE crops_info (coordinate_x real, coordinate_y real, crops_type real, crop_oases text)''')\n",
    "\n",
    "#count = 0\n",
    "#for i in coordinate_x:\n",
    "#    add_info = (coordinate_x[count],coordinate_y[count],crops_type[count],crop_oases[count])\n",
    "#    c.execute('INSERT INTO crops_info VALUES (?,?,?,?)', add_info)\n",
    "#    count+=1\n",
    "\n",
    "#c.execute('''SELECT * FROM crops_info''')\n",
    "\n",
    "#connect_db.commit()\n",
    "#connect_db.close()"
   ]
  },
  {
   "cell_type": "code",
   "execution_count": null,
   "metadata": {
    "collapsed": true
   },
   "outputs": [],
   "source": []
  }
 ],
 "metadata": {
  "kernelspec": {
   "display_name": "Python 3",
   "language": "python",
   "name": "python3"
  },
  "language_info": {
   "codemirror_mode": {
    "name": "ipython",
    "version": 3
   },
   "file_extension": ".py",
   "mimetype": "text/x-python",
   "name": "python",
   "nbconvert_exporter": "python",
   "pygments_lexer": "ipython3",
   "version": "3.4.1"
  }
 },
 "nbformat": 4,
 "nbformat_minor": 0
}
